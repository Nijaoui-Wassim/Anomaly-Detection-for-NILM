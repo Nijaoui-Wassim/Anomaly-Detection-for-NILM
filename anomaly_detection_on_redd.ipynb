{
 "cells": [
  {
   "cell_type": "markdown",
   "metadata": {},
   "source": [
    "# Anomaly Detection with NILMTK\n",
    "\n",
    "Trying to implement the following paper:\n",
    "#### Appliance-Level Anomaly Detection in Nonintrusive Load Monitoring via Power Consumption-Based Feature Analysis! <br><br>\n"
   ]
  },
  {
   "cell_type": "markdown",
   "metadata": {},
   "source": [
    "## \"Operation Mode Extraction\"\n",
    "\n",
    "\n",
    "<br><br>\n",
    "### A) Getting and Preprocessing Dataset [X]<br>\n",
    "##### I) Get the aggregated power signal [X]<br><br>\n",
    "\n",
    "### B) Event Detection [X]<br>\n",
    "If the difference between two consecutive samples exceeds a certain threshold <br>\n",
    "##### I) Implementing the three-point method [X]\n",
    "##### II) Data up-sample to a second [X]\n",
    "<br><br>\n",
    "### C) Proposed Event-based States Detection [ ]<br>\n",
    "##### I) three-point event detection [X]\n",
    "##### II) The dataset of events is defined [ ]\n",
    "##### III) K-means clustering [X]\n",
    "<br><br>"
   ]
  },
  {
   "cell_type": "markdown",
   "metadata": {},
   "source": [
    "# Importing libraries"
   ]
  },
  {
   "cell_type": "code",
   "execution_count": 1,
   "metadata": {
    "scrolled": true
   },
   "outputs": [
    {
     "name": "stderr",
     "output_type": "stream",
     "text": [
      "C:\\Users\\nijao\\Anaconda3\\lib\\site-packages\\numpy\\_distributor_init.py:32: UserWarning: loaded more than 1 DLL from .libs:\n",
      "C:\\Users\\nijao\\Anaconda3\\lib\\site-packages\\numpy\\.libs\\libopenblas.WCDJNK7YVMPZQ2ME2ZZHJJRJ3JIKNDB7.gfortran-win_amd64.dll\n",
      "C:\\Users\\nijao\\Anaconda3\\lib\\site-packages\\numpy\\.libs\\libopenblas.XWYDX2IKJW2NMTWSFYNGFUWKQU3LYTCZ.gfortran-win_amd64.dll\n",
      "  stacklevel=1)\n"
     ]
    }
   ],
   "source": [
    "import os\n",
    "import sys\n",
    "import random\n",
    "import numpy as np\n",
    "import pandas as pd\n",
    "import matplotlib.pyplot as plt"
   ]
  },
  {
   "cell_type": "markdown",
   "metadata": {},
   "source": [
    "# Pre-Processing the Dataset"
   ]
  },
  {
   "cell_type": "code",
   "execution_count": 2,
   "metadata": {},
   "outputs": [],
   "source": [
    "import warnings; warnings.filterwarnings('ignore')\n",
    "\n",
    "from nilmtk import DataSet\n",
    "train = DataSet('C:/data/redd.h5')\n",
    "train.set_window(end=\"30-4-2011\") #Use data only until 4/30/2011\n",
    "train_elec = train.buildings[1].elec"
   ]
  },
  {
   "cell_type": "markdown",
   "metadata": {},
   "source": [
    "### Choosing the training target"
   ]
  },
  {
   "cell_type": "code",
   "execution_count": 3,
   "metadata": {},
   "outputs": [
    {
     "name": "stdout",
     "output_type": "stream",
     "text": [
      "MeterGroup(meters=\n",
      "  ElecMeter(instance=5, building=1, dataset='REDD', appliances=[Appliance(type='fridge', instance=1)])\n",
      "  ElecMeter(instance=6, building=1, dataset='REDD', appliances=[Appliance(type='dish washer', instance=1)])\n",
      "  ElecMeter(instance=7, building=1, dataset='REDD', appliances=[Appliance(type='sockets', instance=1)])\n",
      "  ElecMeter(instance=8, building=1, dataset='REDD', appliances=[Appliance(type='sockets', instance=2)])\n",
      "  ElecMeter(instance=9, building=1, dataset='REDD', appliances=[Appliance(type='light', instance=1)])\n",
      "  ElecMeter(instance=11, building=1, dataset='REDD', appliances=[Appliance(type='microwave', instance=1)])\n",
      "  ElecMeter(instance=12, building=1, dataset='REDD', appliances=[Appliance(type='unknown', instance=1)])\n",
      "  ElecMeter(instance=13, building=1, dataset='REDD', appliances=[Appliance(type='electric space heater', instance=1)])\n",
      "  ElecMeter(instance=14, building=1, dataset='REDD', appliances=[Appliance(type='electric stove', instance=1)])\n",
      "  ElecMeter(instance=15, building=1, dataset='REDD', appliances=[Appliance(type='sockets', instance=3)])\n",
      "  ElecMeter(instance=16, building=1, dataset='REDD', appliances=[Appliance(type='sockets', instance=4)])\n",
      "  ElecMeter(instance=17, building=1, dataset='REDD', appliances=[Appliance(type='light', instance=2)])\n",
      "  ElecMeter(instance=18, building=1, dataset='REDD', appliances=[Appliance(type='light', instance=3)])\n",
      "  ElecMeter(instance=19, building=1, dataset='REDD', appliances=[Appliance(type='unknown', instance=2)])\n",
      "  MeterGroup(meters=\n",
      "    ElecMeter(instance=3, building=1, dataset='REDD', appliances=[Appliance(type='electric oven', instance=1)])\n",
      "    ElecMeter(instance=4, building=1, dataset='REDD', appliances=[Appliance(type='electric oven', instance=1)])\n",
      "  )\n",
      "  MeterGroup(meters=\n",
      "    ElecMeter(instance=10, building=1, dataset='REDD', appliances=[Appliance(type='washer dryer', instance=1)])\n",
      "    ElecMeter(instance=20, building=1, dataset='REDD', appliances=[Appliance(type='washer dryer', instance=1)])\n",
      "  )\n",
      ")\n"
     ]
    }
   ],
   "source": [
    "train_mains = train_elec.mains().all_meters()[0] # The aggregated meter that provides the input\n",
    "\n",
    "\n",
    "print(train_elec.submeters())\n",
    "train_meter = train_elec.submeters()['electric stove'] # The microwave meter that is used as a training target"
   ]
  },
  {
   "cell_type": "markdown",
   "metadata": {},
   "source": [
    "### Helper Functions"
   ]
  },
  {
   "cell_type": "code",
   "execution_count": 4,
   "metadata": {},
   "outputs": [],
   "source": [
    "def _normalize(chunk, mmax):\n",
    "    '''Normalizes timeseries\n",
    "\n",
    "    Parameters\n",
    "    ----------\n",
    "    chunk : the timeseries to normalize\n",
    "    max : max value of the powerseries\n",
    "\n",
    "    Returns: Normalized timeseries\n",
    "    '''\n",
    "    tchunk = chunk / mmax\n",
    "    return tchunk"
   ]
  },
  {
   "cell_type": "code",
   "execution_count": 5,
   "metadata": {},
   "outputs": [],
   "source": [
    "def apply_on_chunk(mainchunk, meterchunk, epochs=5, batch_size=8, window_size=1):\n",
    "    '''Train using only one chunk\n",
    "\n",
    "    Parameters\n",
    "    ----------\n",
    "    mainchunk : chunk of site meter\n",
    "    meterchunk : chunk of appliance\n",
    "    epochs : number of epochs for training\n",
    "    batch_size : size of batch used for training\n",
    "    '''\n",
    "\n",
    "    print(\"mainchunk  : \",np.shape(mainchunk))\n",
    "    \n",
    "    # Replace NaNs with 0s\n",
    "    mainchunk.fillna(0, inplace=True)\n",
    "    meterchunk.fillna(0, inplace=True)\n",
    "    ix = mainchunk.index.intersection(meterchunk.index)\n",
    "    mainchunk = np.array(mainchunk[ix])\n",
    "    meterchunk = np.array(meterchunk[ix])\n",
    "\n",
    "    \n",
    "    print(\"mainchunk  : \",np.shape(mainchunk))\n",
    "    \n",
    "    indexer = np.arange(window_size)[None, :] + np.arange(len(mainchunk)-window_size+1)[:, None]\n",
    "    mainchunk = mainchunk[indexer]\n",
    "    meterchunk = meterchunk[window_size-1:]\n",
    "    mainchunk = np.reshape(mainchunk, (mainchunk.shape[0], mainchunk.shape[1],1))\n",
    "\n",
    "    #self.model.fit(mainchunk, meterchunk, epochs=epochs, batch_size=batch_size, shuffle=True)\n",
    "    return mainchunk, meterchunk\n",
    "\n",
    "\n",
    "\n",
    "\n",
    "def convert_time(timestamp):\n",
    "    return pd.to_datetime(timestamp, unit='ms')\n",
    "\n",
    "def get_second(date):\n",
    "    return date.second\n",
    "\n",
    "def get_minute(date):\n",
    "    return date.minute\n",
    "\n",
    "def get_hour(date):\n",
    "    return date.hour\n",
    "\n",
    "def get_day(date):\n",
    "    return date.day\n",
    "\n",
    "def get_month(date):\n",
    "    return date.month\n",
    "\n",
    "def get_year(date):\n",
    "    return date.year\n"
   ]
  },
  {
   "cell_type": "markdown",
   "metadata": {},
   "source": [
    "### Loading the dataset into mainchunk and meterchunk"
   ]
  },
  {
   "cell_type": "code",
   "execution_count": 6,
   "metadata": {},
   "outputs": [
    {
     "name": "stdout",
     "output_type": "stream",
     "text": [
      "\n"
     ]
    }
   ],
   "source": [
    "main_power_series  = train_mains.power_series()\n",
    "meter_power_series = train_meter.power_series()\n",
    "mmax = 1\n",
    "\n",
    "\n",
    "    \n",
    "# Train chunks\n",
    "run = True\n",
    "mainchunk = next(main_power_series)\n",
    "meterchunk = next(meter_power_series)\n",
    "if mmax == None:\n",
    "    mmax = mainchunk.max()\n",
    "\n",
    "while(run):\n",
    "    \n",
    "    mainchunk = _normalize(mainchunk, mmax)\n",
    "    meterchunk = _normalize(meterchunk, mmax)\n",
    "\n",
    "    #self.train_on_chunk(mainchunk, meterchunk, epochs, batch_size)\n",
    "    try:\n",
    "        mainchunk = next(main_power_series)\n",
    "        meterchunk = next(meter_power_series)\n",
    "        print(\"1\")\n",
    "        mainchunks, meterchunks = apply_on_chunk(mainchunk, meterchunk, epochs, batch_size)\n",
    "    except Exception as e:\n",
    "        print(e)\n",
    "        run = False\n",
    "                "
   ]
  },
  {
   "cell_type": "code",
   "execution_count": 7,
   "metadata": {},
   "outputs": [
    {
     "name": "stdout",
     "output_type": "stream",
     "text": [
      "mainchunk  :  (830117,)\n",
      "mainchunk  :  (215567,)\n",
      "mainchunks  :  (215567, 1, 1)\n",
      "meterchunks :  (215567,)\n"
     ]
    }
   ],
   "source": [
    "mainchunks, meterchunks = apply_on_chunk(mainchunk, meterchunk)\n",
    "\n",
    "print(\"mainchunks  : \",np.shape(mainchunks))\n",
    "\n",
    "print(\"meterchunks : \",np.shape(meterchunks))"
   ]
  },
  {
   "cell_type": "code",
   "execution_count": 8,
   "metadata": {},
   "outputs": [],
   "source": [
    "df_main  = mainchunk.to_frame()  \n",
    "df_meter = meterchunk.to_frame()\n",
    "\n",
    "df_main['power appliance'] = df_meter\n",
    "\n",
    "df_main.columns =['power apparent','power appliance']\n",
    "\n",
    "df_meter = df_main['power appliance']\n",
    "\n",
    "\n",
    "\n",
    "df_main[\"power appliance\"].fillna(\"0\", inplace = True)\n",
    "df_main = df_main.reset_index()\n",
    "\n",
    "df_main.columns =['date','power apparent','power appliance']\n",
    "\n",
    "\n",
    "df_main['second']   = df_main['date'].apply(get_second)\n",
    "df_main['minute']   = df_main['date'].apply(get_minute)\n",
    "df_main['hour']   = df_main['date'].apply(get_hour)\n",
    "df_main['day']    = df_main['date'].apply(get_day)\n",
    "df_main['month']  = df_main['date'].apply(get_month)\n",
    "df_main['year']   = df_main['date'].apply(get_year)"
   ]
  },
  {
   "cell_type": "code",
   "execution_count": 9,
   "metadata": {},
   "outputs": [
    {
     "data": {
      "text/html": [
       "<div>\n",
       "<style scoped>\n",
       "    .dataframe tbody tr th:only-of-type {\n",
       "        vertical-align: middle;\n",
       "    }\n",
       "\n",
       "    .dataframe tbody tr th {\n",
       "        vertical-align: top;\n",
       "    }\n",
       "\n",
       "    .dataframe thead th {\n",
       "        text-align: right;\n",
       "    }\n",
       "</style>\n",
       "<table border=\"1\" class=\"dataframe\">\n",
       "  <thead>\n",
       "    <tr style=\"text-align: right;\">\n",
       "      <th></th>\n",
       "      <th>date</th>\n",
       "      <th>power apparent</th>\n",
       "      <th>power appliance</th>\n",
       "      <th>second</th>\n",
       "      <th>minute</th>\n",
       "      <th>hour</th>\n",
       "      <th>day</th>\n",
       "      <th>month</th>\n",
       "      <th>year</th>\n",
       "    </tr>\n",
       "  </thead>\n",
       "  <tbody>\n",
       "    <tr>\n",
       "      <th>0</th>\n",
       "      <td>2011-04-18 09:22:09-04:00</td>\n",
       "      <td>224.190002</td>\n",
       "      <td>0</td>\n",
       "      <td>9</td>\n",
       "      <td>22</td>\n",
       "      <td>9</td>\n",
       "      <td>18</td>\n",
       "      <td>4</td>\n",
       "      <td>2011</td>\n",
       "    </tr>\n",
       "    <tr>\n",
       "      <th>1</th>\n",
       "      <td>2011-04-18 09:22:10-04:00</td>\n",
       "      <td>225.570007</td>\n",
       "      <td>0</td>\n",
       "      <td>10</td>\n",
       "      <td>22</td>\n",
       "      <td>9</td>\n",
       "      <td>18</td>\n",
       "      <td>4</td>\n",
       "      <td>2011</td>\n",
       "    </tr>\n",
       "    <tr>\n",
       "      <th>2</th>\n",
       "      <td>2011-04-18 09:22:11-04:00</td>\n",
       "      <td>226.089996</td>\n",
       "      <td>0</td>\n",
       "      <td>11</td>\n",
       "      <td>22</td>\n",
       "      <td>9</td>\n",
       "      <td>18</td>\n",
       "      <td>4</td>\n",
       "      <td>2011</td>\n",
       "    </tr>\n",
       "    <tr>\n",
       "      <th>3</th>\n",
       "      <td>2011-04-18 09:22:12-04:00</td>\n",
       "      <td>222.740005</td>\n",
       "      <td>0</td>\n",
       "      <td>12</td>\n",
       "      <td>22</td>\n",
       "      <td>9</td>\n",
       "      <td>18</td>\n",
       "      <td>4</td>\n",
       "      <td>2011</td>\n",
       "    </tr>\n",
       "    <tr>\n",
       "      <th>4</th>\n",
       "      <td>2011-04-18 09:22:13-04:00</td>\n",
       "      <td>222.199997</td>\n",
       "      <td>0</td>\n",
       "      <td>13</td>\n",
       "      <td>22</td>\n",
       "      <td>9</td>\n",
       "      <td>18</td>\n",
       "      <td>4</td>\n",
       "      <td>2011</td>\n",
       "    </tr>\n",
       "    <tr>\n",
       "      <th>5</th>\n",
       "      <td>2011-04-18 09:22:14-04:00</td>\n",
       "      <td>222.110001</td>\n",
       "      <td>0</td>\n",
       "      <td>14</td>\n",
       "      <td>22</td>\n",
       "      <td>9</td>\n",
       "      <td>18</td>\n",
       "      <td>4</td>\n",
       "      <td>2011</td>\n",
       "    </tr>\n",
       "    <tr>\n",
       "      <th>6</th>\n",
       "      <td>2011-04-18 09:22:15-04:00</td>\n",
       "      <td>223.139999</td>\n",
       "      <td>0</td>\n",
       "      <td>15</td>\n",
       "      <td>22</td>\n",
       "      <td>9</td>\n",
       "      <td>18</td>\n",
       "      <td>4</td>\n",
       "      <td>2011</td>\n",
       "    </tr>\n",
       "    <tr>\n",
       "      <th>7</th>\n",
       "      <td>2011-04-18 09:22:16-04:00</td>\n",
       "      <td>223.169998</td>\n",
       "      <td>0</td>\n",
       "      <td>16</td>\n",
       "      <td>22</td>\n",
       "      <td>9</td>\n",
       "      <td>18</td>\n",
       "      <td>4</td>\n",
       "      <td>2011</td>\n",
       "    </tr>\n",
       "    <tr>\n",
       "      <th>8</th>\n",
       "      <td>2011-04-18 09:22:17-04:00</td>\n",
       "      <td>222.250000</td>\n",
       "      <td>0</td>\n",
       "      <td>17</td>\n",
       "      <td>22</td>\n",
       "      <td>9</td>\n",
       "      <td>18</td>\n",
       "      <td>4</td>\n",
       "      <td>2011</td>\n",
       "    </tr>\n",
       "    <tr>\n",
       "      <th>9</th>\n",
       "      <td>2011-04-18 09:22:18-04:00</td>\n",
       "      <td>222.639999</td>\n",
       "      <td>0</td>\n",
       "      <td>18</td>\n",
       "      <td>22</td>\n",
       "      <td>9</td>\n",
       "      <td>18</td>\n",
       "      <td>4</td>\n",
       "      <td>2011</td>\n",
       "    </tr>\n",
       "  </tbody>\n",
       "</table>\n",
       "</div>"
      ],
      "text/plain": [
       "                       date  power apparent power appliance  second  minute  \\\n",
       "0 2011-04-18 09:22:09-04:00      224.190002               0       9      22   \n",
       "1 2011-04-18 09:22:10-04:00      225.570007               0      10      22   \n",
       "2 2011-04-18 09:22:11-04:00      226.089996               0      11      22   \n",
       "3 2011-04-18 09:22:12-04:00      222.740005               0      12      22   \n",
       "4 2011-04-18 09:22:13-04:00      222.199997               0      13      22   \n",
       "5 2011-04-18 09:22:14-04:00      222.110001               0      14      22   \n",
       "6 2011-04-18 09:22:15-04:00      223.139999               0      15      22   \n",
       "7 2011-04-18 09:22:16-04:00      223.169998               0      16      22   \n",
       "8 2011-04-18 09:22:17-04:00      222.250000               0      17      22   \n",
       "9 2011-04-18 09:22:18-04:00      222.639999               0      18      22   \n",
       "\n",
       "   hour  day  month  year  \n",
       "0     9   18      4  2011  \n",
       "1     9   18      4  2011  \n",
       "2     9   18      4  2011  \n",
       "3     9   18      4  2011  \n",
       "4     9   18      4  2011  \n",
       "5     9   18      4  2011  \n",
       "6     9   18      4  2011  \n",
       "7     9   18      4  2011  \n",
       "8     9   18      4  2011  \n",
       "9     9   18      4  2011  "
      ]
     },
     "execution_count": 9,
     "metadata": {},
     "output_type": "execute_result"
    }
   ],
   "source": [
    "df_main.head(10)"
   ]
  },
  {
   "cell_type": "code",
   "execution_count": 10,
   "metadata": {},
   "outputs": [],
   "source": [
    "df = df_main['date'].to_frame()\n",
    "df['year'] = df_main['year']\n",
    "df['month'] = df_main['month']\n",
    "df['day'] = df_main['day']\n",
    "df['hour'] = df_main['hour']\n",
    "df['minute'] = df_main['minute']\n",
    "df['second'] = df_main['second']\n",
    "df['power apparent'] = df_main['power apparent']\n",
    "df['power appliance'] = df_main['power appliance']"
   ]
  },
  {
   "cell_type": "code",
   "execution_count": 11,
   "metadata": {},
   "outputs": [
    {
     "data": {
      "text/html": [
       "<div>\n",
       "<style scoped>\n",
       "    .dataframe tbody tr th:only-of-type {\n",
       "        vertical-align: middle;\n",
       "    }\n",
       "\n",
       "    .dataframe tbody tr th {\n",
       "        vertical-align: top;\n",
       "    }\n",
       "\n",
       "    .dataframe thead th {\n",
       "        text-align: right;\n",
       "    }\n",
       "</style>\n",
       "<table border=\"1\" class=\"dataframe\">\n",
       "  <thead>\n",
       "    <tr style=\"text-align: right;\">\n",
       "      <th></th>\n",
       "      <th>date</th>\n",
       "      <th>year</th>\n",
       "      <th>month</th>\n",
       "      <th>day</th>\n",
       "      <th>hour</th>\n",
       "      <th>minute</th>\n",
       "      <th>second</th>\n",
       "      <th>power apparent</th>\n",
       "      <th>power appliance</th>\n",
       "    </tr>\n",
       "  </thead>\n",
       "  <tbody>\n",
       "    <tr>\n",
       "      <th>0</th>\n",
       "      <td>2011-04-18 09:22:09-04:00</td>\n",
       "      <td>2011</td>\n",
       "      <td>4</td>\n",
       "      <td>18</td>\n",
       "      <td>9</td>\n",
       "      <td>22</td>\n",
       "      <td>9</td>\n",
       "      <td>224.190002</td>\n",
       "      <td>0</td>\n",
       "    </tr>\n",
       "    <tr>\n",
       "      <th>1</th>\n",
       "      <td>2011-04-18 09:22:10-04:00</td>\n",
       "      <td>2011</td>\n",
       "      <td>4</td>\n",
       "      <td>18</td>\n",
       "      <td>9</td>\n",
       "      <td>22</td>\n",
       "      <td>10</td>\n",
       "      <td>225.570007</td>\n",
       "      <td>0</td>\n",
       "    </tr>\n",
       "    <tr>\n",
       "      <th>2</th>\n",
       "      <td>2011-04-18 09:22:11-04:00</td>\n",
       "      <td>2011</td>\n",
       "      <td>4</td>\n",
       "      <td>18</td>\n",
       "      <td>9</td>\n",
       "      <td>22</td>\n",
       "      <td>11</td>\n",
       "      <td>226.089996</td>\n",
       "      <td>0</td>\n",
       "    </tr>\n",
       "    <tr>\n",
       "      <th>3</th>\n",
       "      <td>2011-04-18 09:22:12-04:00</td>\n",
       "      <td>2011</td>\n",
       "      <td>4</td>\n",
       "      <td>18</td>\n",
       "      <td>9</td>\n",
       "      <td>22</td>\n",
       "      <td>12</td>\n",
       "      <td>222.740005</td>\n",
       "      <td>0</td>\n",
       "    </tr>\n",
       "    <tr>\n",
       "      <th>4</th>\n",
       "      <td>2011-04-18 09:22:13-04:00</td>\n",
       "      <td>2011</td>\n",
       "      <td>4</td>\n",
       "      <td>18</td>\n",
       "      <td>9</td>\n",
       "      <td>22</td>\n",
       "      <td>13</td>\n",
       "      <td>222.199997</td>\n",
       "      <td>0</td>\n",
       "    </tr>\n",
       "    <tr>\n",
       "      <th>5</th>\n",
       "      <td>2011-04-18 09:22:14-04:00</td>\n",
       "      <td>2011</td>\n",
       "      <td>4</td>\n",
       "      <td>18</td>\n",
       "      <td>9</td>\n",
       "      <td>22</td>\n",
       "      <td>14</td>\n",
       "      <td>222.110001</td>\n",
       "      <td>0</td>\n",
       "    </tr>\n",
       "    <tr>\n",
       "      <th>6</th>\n",
       "      <td>2011-04-18 09:22:15-04:00</td>\n",
       "      <td>2011</td>\n",
       "      <td>4</td>\n",
       "      <td>18</td>\n",
       "      <td>9</td>\n",
       "      <td>22</td>\n",
       "      <td>15</td>\n",
       "      <td>223.139999</td>\n",
       "      <td>0</td>\n",
       "    </tr>\n",
       "    <tr>\n",
       "      <th>7</th>\n",
       "      <td>2011-04-18 09:22:16-04:00</td>\n",
       "      <td>2011</td>\n",
       "      <td>4</td>\n",
       "      <td>18</td>\n",
       "      <td>9</td>\n",
       "      <td>22</td>\n",
       "      <td>16</td>\n",
       "      <td>223.169998</td>\n",
       "      <td>0</td>\n",
       "    </tr>\n",
       "    <tr>\n",
       "      <th>8</th>\n",
       "      <td>2011-04-18 09:22:17-04:00</td>\n",
       "      <td>2011</td>\n",
       "      <td>4</td>\n",
       "      <td>18</td>\n",
       "      <td>9</td>\n",
       "      <td>22</td>\n",
       "      <td>17</td>\n",
       "      <td>222.250000</td>\n",
       "      <td>0</td>\n",
       "    </tr>\n",
       "    <tr>\n",
       "      <th>9</th>\n",
       "      <td>2011-04-18 09:22:18-04:00</td>\n",
       "      <td>2011</td>\n",
       "      <td>4</td>\n",
       "      <td>18</td>\n",
       "      <td>9</td>\n",
       "      <td>22</td>\n",
       "      <td>18</td>\n",
       "      <td>222.639999</td>\n",
       "      <td>0</td>\n",
       "    </tr>\n",
       "  </tbody>\n",
       "</table>\n",
       "</div>"
      ],
      "text/plain": [
       "                       date  year  month  day  hour  minute  second  \\\n",
       "0 2011-04-18 09:22:09-04:00  2011      4   18     9      22       9   \n",
       "1 2011-04-18 09:22:10-04:00  2011      4   18     9      22      10   \n",
       "2 2011-04-18 09:22:11-04:00  2011      4   18     9      22      11   \n",
       "3 2011-04-18 09:22:12-04:00  2011      4   18     9      22      12   \n",
       "4 2011-04-18 09:22:13-04:00  2011      4   18     9      22      13   \n",
       "5 2011-04-18 09:22:14-04:00  2011      4   18     9      22      14   \n",
       "6 2011-04-18 09:22:15-04:00  2011      4   18     9      22      15   \n",
       "7 2011-04-18 09:22:16-04:00  2011      4   18     9      22      16   \n",
       "8 2011-04-18 09:22:17-04:00  2011      4   18     9      22      17   \n",
       "9 2011-04-18 09:22:18-04:00  2011      4   18     9      22      18   \n",
       "\n",
       "   power apparent power appliance  \n",
       "0      224.190002               0  \n",
       "1      225.570007               0  \n",
       "2      226.089996               0  \n",
       "3      222.740005               0  \n",
       "4      222.199997               0  \n",
       "5      222.110001               0  \n",
       "6      223.139999               0  \n",
       "7      223.169998               0  \n",
       "8      222.250000               0  \n",
       "9      222.639999               0  "
      ]
     },
     "execution_count": 11,
     "metadata": {},
     "output_type": "execute_result"
    }
   ],
   "source": [
    "df.head(10) # dataset already to the second"
   ]
  },
  {
   "cell_type": "code",
   "execution_count": 12,
   "metadata": {},
   "outputs": [
    {
     "data": {
      "image/png": "[encoded data removed]",
      "text/plain": [
       "<Figure size 432x288 with 1 Axes>"
      ]
     },
     "metadata": {
      "needs_background": "light"
     },
     "output_type": "display_data"
    }
   ],
   "source": [
    "appliance = df['power appliance'][:50].astype(int)\n",
    "apparent = df['power apparent'][:50].astype(int)\n",
    "time = df['date'][:50]\n",
    "\n",
    "fig, ax = plt.subplots()\n",
    "ax.plot(time, apparent, label=\"apparent\")\n",
    "ax.plot(time, appliance, label=\"appliance\")\n",
    "ax.legend()\n",
    "\n",
    "plt.show()"
   ]
  },
  {
   "cell_type": "code",
   "execution_count": 14,
   "metadata": {},
   "outputs": [
    {
     "data": {
      "image/png": "[encoded data removed]",
      "text/plain": [
       "<Figure size 432x288 with 2 Axes>"
      ]
     },
     "metadata": {
      "needs_background": "light"
     },
     "output_type": "display_data"
    }
   ],
   "source": [
    "fig, (ax1, ax2) = plt.subplots(2, 1)\n",
    "fig.suptitle('Sample from the data')\n",
    "\n",
    "ax1.plot(df['date'][:15], df['power apparent'][:15], 'o-')\n",
    "ax1.set_ylabel('power apparent')\n",
    "\n",
    "ax2.plot(df['date'][:15], df['power appliance'][:15].astype(str), 'o-')\n",
    "ax2.set_xlabel('time (s)')\n",
    "ax2.set_ylabel('power appliance')\n",
    "\n",
    "plt.show()"
   ]
  },
  {
   "cell_type": "markdown",
   "metadata": {},
   "source": [
    "# Up-sampling the data to 1 Second\n",
    "<br>\n",
    "Current dataframe is 1 sec resolution already. Therefore, we won't apply the following method"
   ]
  },
  {
   "cell_type": "code",
   "execution_count": 15,
   "metadata": {},
   "outputs": [],
   "source": [
    "def min_to_sec_data(value1, value2):\n",
    "    \n",
    "    diff = (value2-value1)/60\n",
    "    val = value1\n",
    "    points = [value1]\n",
    "    \n",
    "    for i in range(60):\n",
    "        val += diff#(diff/60)*i\n",
    "        points.append(val)\n",
    "    return points\n",
    "\n",
    "#min_to_sec_data(200,210)"
   ]
  },
  {
   "cell_type": "code",
   "execution_count": 48,
   "metadata": {},
   "outputs": [],
   "source": [
    "mainchunk.values\n",
    "uppsampled_mainchunks = []\n",
    "\n",
    "for i in range(0,len(mainchunk.values)-1,2):\n",
    "    uppsampled_mainchunks.append(min_to_sec_data(mainchunk.values[i],mainchunk.values[i+1]))"
   ]
  },
  {
   "cell_type": "code",
   "execution_count": 49,
   "metadata": {},
   "outputs": [],
   "source": [
    "uppsampled_mainchunks = np.array(uppsampled_mainchunks)"
   ]
  },
  {
   "cell_type": "code",
   "execution_count": 50,
   "metadata": {},
   "outputs": [
    {
     "data": {
      "text/plain": [
       "array([[224.19000244],\n",
       "       [224.21300252],\n",
       "       [224.2360026 ],\n",
       "       ...,\n",
       "       [129.11932882],\n",
       "       [129.11966197],\n",
       "       [129.11999512]])"
      ]
     },
     "execution_count": 50,
     "metadata": {},
     "output_type": "execute_result"
    }
   ],
   "source": [
    "uppsampled_mainchunks = np.reshape(uppsampled_mainchunks, (uppsampled_mainchunks.shape[0]*uppsampled_mainchunks.shape[1],1))\n",
    "uppsampled_mainchunks"
   ]
  },
  {
   "cell_type": "code",
   "execution_count": 51,
   "metadata": {},
   "outputs": [
    {
     "name": "stdout",
     "output_type": "stream",
     "text": [
      "(25318538, 1)\n"
     ]
    }
   ],
   "source": [
    "print(uppsampled_mainchunks.shape)"
   ]
  },
  {
   "cell_type": "markdown",
   "metadata": {},
   "source": [
    "# Three-Point Method\n",
    "\"utilizes the local mean and deviation of the data and is free of\n",
    "said threshold.\""
   ]
  },
  {
   "cell_type": "markdown",
   "metadata": {},
   "source": [
    "### Calculating local mean of P(t)"
   ]
  },
  {
   "cell_type": "code",
   "execution_count": 16,
   "metadata": {
    "scrolled": true
   },
   "outputs": [
    {
     "name": "stdout",
     "output_type": "stream",
     "text": [
      "Computing for [10,5,5]\n",
      "\n",
      "local mean\t   deviation\t\tvariance\t\taverage\n",
      "6.666666666666667 2.357022603955158 5.5555555555555545 6.666666666666667\n"
     ]
    }
   ],
   "source": [
    "import numpy as np\n",
    "from numpy.lib.stride_tricks import as_strided\n",
    "\n",
    "def local_mean_range(P):\n",
    "    d = np.array(P)\n",
    "\n",
    "    consec = 3\n",
    "    offset = 0\n",
    "    nsub = 1\n",
    "    pace = 1\n",
    "\n",
    "    s = d.strides[0]\n",
    "    ngroups= (d.shape[0] - (consec + (nsub-1)*offset - 1))//pace\n",
    "    a = as_strided(d, shape=(ngroups, nsub, consec),\n",
    "                   strides=(pace*s, offset*s, 1*s))\n",
    "\n",
    "    local_mean = a.mean(axis=-1).mean(axis=-1)\n",
    "    return local_mean[0]\n",
    "\n",
    "def deviation_range(P):\n",
    "    return np.std(P)\n",
    "\n",
    "mean = local_mean_range(P=[10,5,5])\n",
    "dev  = deviation_range(P=[10,5,5])\n",
    "\n",
    "def event_detected(P):\n",
    "    detected = True\n",
    "    \n",
    "    return detected\n",
    "\n",
    "print(\"Computing for [10,5,5]\\n\")\n",
    "print('local mean\\t   deviation\\t\\tvariance\\t\\taverage')\n",
    "print(mean, dev, np.var([10,5,5]), np.average([10,5,5]))"
   ]
  },
  {
   "cell_type": "markdown",
   "metadata": {},
   "source": [
    "### Creating the methods for reconstruction and three point method"
   ]
  },
  {
   "cell_type": "code",
   "execution_count": 17,
   "metadata": {},
   "outputs": [],
   "source": [
    "def three_point_method(P, P_s=[]):\n",
    "    \"\"\"\n",
    "    three point method which will be applied on the dataset alongside the reconstruct_P\n",
    "    \"\"\"\n",
    "    P_bar  =  np.average(P)\n",
    "    teta_p =  deviation_range(P)\n",
    "    teta_g = deviation_range(P)\n",
    "    \n",
    "    try:\n",
    "        ps_previous = P_s[-1]\n",
    "    except:\n",
    "        ps_previous = 0\n",
    "    \n",
    "    if teta_p > teta_g:\n",
    "        P_s.append(ps_previous)\n",
    "    else:\n",
    "        P_s.append(P_bar)\n",
    "        \n",
    "    return P_s\n",
    "\n",
    "def reconstruct_P(P, P_s=[0,0], T_q=[0,0],t='',P_events=[], N_events=[]):\n",
    "    \"\"\"\n",
    "    P is our three points which are needed to calculate the deviation\n",
    "    P_s is the cleaned new signal\n",
    "    T_q is the new array that will contain the q events\n",
    "    t is the time at which the event started\n",
    "    \"\"\"\n",
    "    Event_Detected = False\n",
    "    \n",
    "    teta_g = deviation_range(P)\n",
    "    try:\n",
    "        delta_Ps = P_s[-1] - P_s[-2]\n",
    "    except:\n",
    "        if P_s[-1]:\n",
    "            delta_Ps = P_s[-1]\n",
    "        else:\n",
    "            delta_Ps =0\n",
    "    \n",
    "    if delta_Ps>=teta_g:\n",
    "        T_q.append(t)\n",
    "        Event_Detected = True\n",
    "        \n",
    "        \n",
    "    P_events.append(0)\n",
    "    N_events.append(0)\n",
    "    \n",
    "    if delta_Ps>0:\n",
    "        P_events[-1] = P_s[-1]\n",
    "    elif delta_Ps<0:\n",
    "        N_events[-1] = P_s[-1]\n",
    "        \n",
    "    return T_q, P_events, N_events\n"
   ]
  },
  {
   "cell_type": "markdown",
   "metadata": {},
   "source": [
    "### Applying the three-point method + Pre-Processing on the dataset"
   ]
  },
  {
   "cell_type": "code",
   "execution_count": 18,
   "metadata": {},
   "outputs": [
    {
     "name": "stderr",
     "output_type": "stream",
     "text": [
      "100%|████████████████████████████████████████████████████████████████████████| 830117/830117 [04:06<00:00, 3367.07it/s]\n"
     ]
    }
   ],
   "source": [
    "from tqdm import tqdm\n",
    "T_q = [df['date'][0]]\n",
    "P_events, N_events = [],[]\n",
    "P_s = []\n",
    "\n",
    "for i in tqdm(range(0, len(df['power appliance']))):\n",
    "    \n",
    "    P = df['power appliance'][i:i+3].astype(float).values\n",
    "    \n",
    "    # Applying the three points method\n",
    "    P_s = three_point_method(P, P_s)\n",
    "    \n",
    "    # Getting the event data\n",
    "    T_q, P_events, N_events = reconstruct_P(P, P_s, T_q=T_q,t=df['date'][i],P_events=P_events, N_events=N_events)\n",
    "    \n",
    "    "
   ]
  },
  {
   "cell_type": "code",
   "execution_count": 19,
   "metadata": {},
   "outputs": [
    {
     "data": {
      "image/png": "[encoded data removed]",
      "text/plain": [
       "<Figure size 432x288 with 1 Axes>"
      ]
     },
     "metadata": {
      "needs_background": "light"
     },
     "output_type": "display_data"
    }
   ],
   "source": [
    "appliance = P_s\n",
    "time = df['date'][:50]\n",
    "\n",
    "fig, ax = plt.subplots()\n",
    "ax.plot(df['date'], P_s, label=\"new signal\")\n",
    "ax.legend()\n",
    "\n",
    "plt.show()"
   ]
  },
  {
   "cell_type": "code",
   "execution_count": 20,
   "metadata": {},
   "outputs": [
    {
     "data": {
      "image/png": "[encoded data removed]",
      "text/plain": [
       "<Figure size 432x288 with 1 Axes>"
      ]
     },
     "metadata": {
      "needs_background": "light"
     },
     "output_type": "display_data"
    }
   ],
   "source": [
    "appliance = P_s\n",
    "time = df['date'][:50]\n",
    "\n",
    "fig, ax = plt.subplots()\n",
    "\n",
    "ax.plot(df['date'], df['power appliance'].astype(str), label=\"old signal\")\n",
    "\n",
    "ax.plot(df['date'], P_s, label=\"new signal\")\n",
    "\n",
    "ax.legend()\n",
    "\n",
    "plt.show()"
   ]
  },
  {
   "cell_type": "code",
   "execution_count": 21,
   "metadata": {},
   "outputs": [
    {
     "name": "stdout",
     "output_type": "stream",
     "text": [
      "[0. 0. 0. ... 0. 0. 0.]\n"
     ]
    },
    {
     "data": {
      "image/png": "[encoded data removed]",
      "text/plain": [
       "<Figure size 432x288 with 1 Axes>"
      ]
     },
     "metadata": {
      "needs_background": "light"
     },
     "output_type": "display_data"
    }
   ],
   "source": [
    "appliance = P_s\n",
    "time = df['date'][:50]\n",
    "\n",
    "P_string = np.array(P_s)#.dtype(np.int32)      # 32-bit integer\n",
    "print(P_string)\n",
    "fig, ax = plt.subplots()\n",
    "\n",
    "ax.plot(df['date'], df['power appliance'].astype(str), label=\"old signal\")\n",
    "#ax.plot(df['date'][0:15], P_string[0:15], label=\"new signal\")\n",
    "ax.plot(df['date'], P_s, label=\"new signal\")\n",
    "\n",
    "\n",
    "ax.legend()\n",
    "\n",
    "plt.show()"
   ]
  },
  {
   "cell_type": "code",
   "execution_count": 22,
   "metadata": {},
   "outputs": [
    {
     "name": "stdout",
     "output_type": "stream",
     "text": [
      "(830117,)\n",
      "(810790,)\n"
     ]
    }
   ],
   "source": [
    "print(np.shape(P_s))\n",
    "print(np.shape(T_q))"
   ]
  },
  {
   "cell_type": "code",
   "execution_count": 23,
   "metadata": {},
   "outputs": [
    {
     "data": {
      "image/png": "[encoded data removed]",
      "text/plain": [
       "<Figure size 432x288 with 1 Axes>"
      ]
     },
     "metadata": {
      "needs_background": "light"
     },
     "output_type": "display_data"
    }
   ],
   "source": [
    "appliance = P_s\n",
    "time = df['date'][:50]\n",
    "\n",
    "#df_temp = pd.DataFrame(np.array(T_q[:50]), columns=list('abc'))\n",
    "# pd.to_datetime(T_q[:50].datetime)\n",
    "\n",
    "fig, ax = plt.subplots()\n",
    "\n",
    "plt.axvline(T_q[0], color='red', label=\"T(q)\")\n",
    "\n",
    "for i in range(1,25):\n",
    "    plt.axvline(T_q[i], color='red')\n",
    "    \n",
    "ax.plot(df['date'][:25], df['power appliance'][:25].astype(str), label=\"old signal\")\n",
    "\n",
    "ax.plot(df['date'][:25], P_s[:25], label=\"Ps(t)\")\n",
    "ax.plot(df['date'][:25], P_events[:25], label=\"Positive evenets\")\n",
    "\n",
    "\n",
    "\n",
    "\n",
    "\n",
    "    \n",
    "ax.legend()\n",
    "\n",
    "plt.show()"
   ]
  },
  {
   "cell_type": "code",
   "execution_count": null,
   "metadata": {},
   "outputs": [],
   "source": []
  },
  {
   "cell_type": "markdown",
   "metadata": {},
   "source": [
    "### Define the set of events (positive and negative)\n",
    "<br>\n",
    "For example going energy turning on will be positive while off will be negative"
   ]
  },
  {
   "cell_type": "code",
   "execution_count": 25,
   "metadata": {},
   "outputs": [],
   "source": [
    "df['new signal'] = np.array(P_s)#.to_frame()  P_events  positive events"
   ]
  },
  {
   "cell_type": "code",
   "execution_count": 26,
   "metadata": {},
   "outputs": [
    {
     "data": {
      "text/html": [
       "<div>\n",
       "<style scoped>\n",
       "    .dataframe tbody tr th:only-of-type {\n",
       "        vertical-align: middle;\n",
       "    }\n",
       "\n",
       "    .dataframe tbody tr th {\n",
       "        vertical-align: top;\n",
       "    }\n",
       "\n",
       "    .dataframe thead th {\n",
       "        text-align: right;\n",
       "    }\n",
       "</style>\n",
       "<table border=\"1\" class=\"dataframe\">\n",
       "  <thead>\n",
       "    <tr style=\"text-align: right;\">\n",
       "      <th></th>\n",
       "      <th>date</th>\n",
       "      <th>year</th>\n",
       "      <th>month</th>\n",
       "      <th>day</th>\n",
       "      <th>hour</th>\n",
       "      <th>minute</th>\n",
       "      <th>second</th>\n",
       "      <th>power apparent</th>\n",
       "      <th>power appliance</th>\n",
       "      <th>positive events</th>\n",
       "      <th>new signal</th>\n",
       "    </tr>\n",
       "  </thead>\n",
       "  <tbody>\n",
       "    <tr>\n",
       "      <th>0</th>\n",
       "      <td>2011-04-18 09:22:09-04:00</td>\n",
       "      <td>2011</td>\n",
       "      <td>4</td>\n",
       "      <td>18</td>\n",
       "      <td>9</td>\n",
       "      <td>22</td>\n",
       "      <td>9</td>\n",
       "      <td>224.190002</td>\n",
       "      <td>0</td>\n",
       "      <td>0.0</td>\n",
       "      <td>0.0</td>\n",
       "    </tr>\n",
       "    <tr>\n",
       "      <th>1</th>\n",
       "      <td>2011-04-18 09:22:10-04:00</td>\n",
       "      <td>2011</td>\n",
       "      <td>4</td>\n",
       "      <td>18</td>\n",
       "      <td>9</td>\n",
       "      <td>22</td>\n",
       "      <td>10</td>\n",
       "      <td>225.570007</td>\n",
       "      <td>0</td>\n",
       "      <td>0.0</td>\n",
       "      <td>0.0</td>\n",
       "    </tr>\n",
       "    <tr>\n",
       "      <th>2</th>\n",
       "      <td>2011-04-18 09:22:11-04:00</td>\n",
       "      <td>2011</td>\n",
       "      <td>4</td>\n",
       "      <td>18</td>\n",
       "      <td>9</td>\n",
       "      <td>22</td>\n",
       "      <td>11</td>\n",
       "      <td>226.089996</td>\n",
       "      <td>0</td>\n",
       "      <td>0.0</td>\n",
       "      <td>0.0</td>\n",
       "    </tr>\n",
       "    <tr>\n",
       "      <th>3</th>\n",
       "      <td>2011-04-18 09:22:12-04:00</td>\n",
       "      <td>2011</td>\n",
       "      <td>4</td>\n",
       "      <td>18</td>\n",
       "      <td>9</td>\n",
       "      <td>22</td>\n",
       "      <td>12</td>\n",
       "      <td>222.740005</td>\n",
       "      <td>0</td>\n",
       "      <td>0.0</td>\n",
       "      <td>0.0</td>\n",
       "    </tr>\n",
       "    <tr>\n",
       "      <th>4</th>\n",
       "      <td>2011-04-18 09:22:13-04:00</td>\n",
       "      <td>2011</td>\n",
       "      <td>4</td>\n",
       "      <td>18</td>\n",
       "      <td>9</td>\n",
       "      <td>22</td>\n",
       "      <td>13</td>\n",
       "      <td>222.199997</td>\n",
       "      <td>0</td>\n",
       "      <td>0.0</td>\n",
       "      <td>0.0</td>\n",
       "    </tr>\n",
       "    <tr>\n",
       "      <th>5</th>\n",
       "      <td>2011-04-18 09:22:14-04:00</td>\n",
       "      <td>2011</td>\n",
       "      <td>4</td>\n",
       "      <td>18</td>\n",
       "      <td>9</td>\n",
       "      <td>22</td>\n",
       "      <td>14</td>\n",
       "      <td>222.110001</td>\n",
       "      <td>0</td>\n",
       "      <td>0.0</td>\n",
       "      <td>0.0</td>\n",
       "    </tr>\n",
       "    <tr>\n",
       "      <th>6</th>\n",
       "      <td>2011-04-18 09:22:15-04:00</td>\n",
       "      <td>2011</td>\n",
       "      <td>4</td>\n",
       "      <td>18</td>\n",
       "      <td>9</td>\n",
       "      <td>22</td>\n",
       "      <td>15</td>\n",
       "      <td>223.139999</td>\n",
       "      <td>0</td>\n",
       "      <td>0.0</td>\n",
       "      <td>0.0</td>\n",
       "    </tr>\n",
       "    <tr>\n",
       "      <th>7</th>\n",
       "      <td>2011-04-18 09:22:16-04:00</td>\n",
       "      <td>2011</td>\n",
       "      <td>4</td>\n",
       "      <td>18</td>\n",
       "      <td>9</td>\n",
       "      <td>22</td>\n",
       "      <td>16</td>\n",
       "      <td>223.169998</td>\n",
       "      <td>0</td>\n",
       "      <td>0.0</td>\n",
       "      <td>0.0</td>\n",
       "    </tr>\n",
       "    <tr>\n",
       "      <th>8</th>\n",
       "      <td>2011-04-18 09:22:17-04:00</td>\n",
       "      <td>2011</td>\n",
       "      <td>4</td>\n",
       "      <td>18</td>\n",
       "      <td>9</td>\n",
       "      <td>22</td>\n",
       "      <td>17</td>\n",
       "      <td>222.250000</td>\n",
       "      <td>0</td>\n",
       "      <td>0.0</td>\n",
       "      <td>0.0</td>\n",
       "    </tr>\n",
       "    <tr>\n",
       "      <th>9</th>\n",
       "      <td>2011-04-18 09:22:18-04:00</td>\n",
       "      <td>2011</td>\n",
       "      <td>4</td>\n",
       "      <td>18</td>\n",
       "      <td>9</td>\n",
       "      <td>22</td>\n",
       "      <td>18</td>\n",
       "      <td>222.639999</td>\n",
       "      <td>0</td>\n",
       "      <td>0.0</td>\n",
       "      <td>0.0</td>\n",
       "    </tr>\n",
       "  </tbody>\n",
       "</table>\n",
       "</div>"
      ],
      "text/plain": [
       "                       date  year  month  day  hour  minute  second  \\\n",
       "0 2011-04-18 09:22:09-04:00  2011      4   18     9      22       9   \n",
       "1 2011-04-18 09:22:10-04:00  2011      4   18     9      22      10   \n",
       "2 2011-04-18 09:22:11-04:00  2011      4   18     9      22      11   \n",
       "3 2011-04-18 09:22:12-04:00  2011      4   18     9      22      12   \n",
       "4 2011-04-18 09:22:13-04:00  2011      4   18     9      22      13   \n",
       "5 2011-04-18 09:22:14-04:00  2011      4   18     9      22      14   \n",
       "6 2011-04-18 09:22:15-04:00  2011      4   18     9      22      15   \n",
       "7 2011-04-18 09:22:16-04:00  2011      4   18     9      22      16   \n",
       "8 2011-04-18 09:22:17-04:00  2011      4   18     9      22      17   \n",
       "9 2011-04-18 09:22:18-04:00  2011      4   18     9      22      18   \n",
       "\n",
       "   power apparent power appliance  positive events  new signal  \n",
       "0      224.190002               0              0.0         0.0  \n",
       "1      225.570007               0              0.0         0.0  \n",
       "2      226.089996               0              0.0         0.0  \n",
       "3      222.740005               0              0.0         0.0  \n",
       "4      222.199997               0              0.0         0.0  \n",
       "5      222.110001               0              0.0         0.0  \n",
       "6      223.139999               0              0.0         0.0  \n",
       "7      223.169998               0              0.0         0.0  \n",
       "8      222.250000               0              0.0         0.0  \n",
       "9      222.639999               0              0.0         0.0  "
      ]
     },
     "execution_count": 26,
     "metadata": {},
     "output_type": "execute_result"
    }
   ],
   "source": [
    "df.head(10)"
   ]
  },
  {
   "cell_type": "markdown",
   "metadata": {
    "colab_type": "text",
    "id": "i_paGd_yLbgH"
   },
   "source": [
    "# K-Means Clustering"
   ]
  },
  {
   "cell_type": "code",
   "execution_count": 27,
   "metadata": {},
   "outputs": [
    {
     "data": {
      "text/plain": [
       "array([[  0.        , 224.19000244],\n",
       "       [  0.        , 225.57000732],\n",
       "       [  0.        , 226.08999634],\n",
       "       ...,\n",
       "       [  0.        , 129.1000061 ],\n",
       "       [  0.        , 129.11999512],\n",
       "       [  0.        , 129.33999634]])"
      ]
     },
     "execution_count": 27,
     "metadata": {},
     "output_type": "execute_result"
    }
   ],
   "source": [
    "df_clust = df['new signal'].to_frame()\n",
    "df_clust['power apparent'] = df['power apparent'] \n",
    "\n",
    "X = df_clust.values\n",
    "X"
   ]
  },
  {
   "cell_type": "markdown",
   "metadata": {
    "colab_type": "text",
    "id": "1wrHODfJAEiI"
   },
   "source": [
    "## Feature Scaling"
   ]
  },
  {
   "cell_type": "code",
   "execution_count": 28,
   "metadata": {},
   "outputs": [],
   "source": [
    "from sklearn.preprocessing import StandardScaler\n",
    "sc = StandardScaler()\n",
    "X = sc.fit_transform(X)"
   ]
  },
  {
   "cell_type": "markdown",
   "metadata": {
    "colab_type": "text",
    "id": "S3i3lRiwASAX"
   },
   "source": [
    "## Applying PCA"
   ]
  },
  {
   "cell_type": "markdown",
   "metadata": {
    "colab_type": "text",
    "id": "nWC2EWp2Lx5G"
   },
   "source": [
    "## Using the elbow method to find the optimal number of clusters"
   ]
  },
  {
   "cell_type": "code",
   "execution_count": 29,
   "metadata": {},
   "outputs": [
    {
     "data": {
      "image/png": "[encoded data removed]",
      "text/plain": [
       "<Figure size 432x288 with 1 Axes>"
      ]
     },
     "metadata": {
      "needs_background": "light"
     },
     "output_type": "display_data"
    }
   ],
   "source": [
    "from sklearn.cluster import KMeans\n",
    "wcss = []\n",
    "for i in range(1, 11):\n",
    "    kmeans = KMeans(n_clusters = i, init = 'k-means++', random_state = 42)\n",
    "    kmeans.fit(X)\n",
    "    wcss.append(kmeans.inertia_)\n",
    "plt.plot(range(1, 11), wcss)\n",
    "plt.title('The Elbow Method')\n",
    "plt.xlabel('Number of clusters')\n",
    "plt.ylabel('WCSS')\n",
    "plt.show()"
   ]
  },
  {
   "cell_type": "markdown",
   "metadata": {},
   "source": [
    "We can see that 3 is the optimal number of states for this appliance"
   ]
  },
  {
   "cell_type": "markdown",
   "metadata": {
    "colab_type": "text",
    "id": "VgT0mANLL4Nz"
   },
   "source": [
    "## Training the K-Means model on the dataset"
   ]
  },
  {
   "cell_type": "code",
   "execution_count": 30,
   "metadata": {},
   "outputs": [],
   "source": [
    "kmeans = KMeans(n_clusters = 3, init = 'k-means++', random_state = 42)\n",
    "y_kmeans = kmeans.fit_predict(X)"
   ]
  },
  {
   "cell_type": "markdown",
   "metadata": {
    "colab_type": "text",
    "id": "e7YrS1JAMFnm"
   },
   "source": [
    "## Visualising the clusters"
   ]
  },
  {
   "cell_type": "markdown",
   "metadata": {},
   "source": [
    "### with processing the three-point method"
   ]
  },
  {
   "cell_type": "code",
   "execution_count": 31,
   "metadata": {},
   "outputs": [
    {
     "data": {
      "image/png": "[encoded data removed]",
      "text/plain": [
       "<Figure size 432x288 with 1 Axes>"
      ]
     },
     "metadata": {
      "needs_background": "light"
     },
     "output_type": "display_data"
    }
   ],
   "source": [
    "plt.scatter(X[y_kmeans == 0, 0], X[y_kmeans == 0, 1], s = 100, c = 'red', label = 'Cluster 1')\n",
    "plt.scatter(X[y_kmeans == 1, 0], X[y_kmeans == 1, 1], s = 100, c = 'blue', label = 'Cluster 2')\n",
    "plt.scatter(X[y_kmeans == 2, 0], X[y_kmeans == 2, 1], s = 100, c = 'green', label = 'Cluster 3')\n",
    "plt.scatter(kmeans.cluster_centers_[:, 0], kmeans.cluster_centers_[:, 1], s = 300, c = 'cyan', label = 'Centroids')\n",
    "plt.title('Clusters of operations modes')\n",
    "plt.xlabel('Total Power')\n",
    "plt.ylabel('Appliance Power')\n",
    "plt.legend()\n",
    "plt.show()"
   ]
  },
  {
   "cell_type": "markdown",
   "metadata": {},
   "source": [
    "### without processing the three-point method"
   ]
  },
  {
   "cell_type": "code",
   "execution_count": 18,
   "metadata": {},
   "outputs": [
    {
     "data": {
      "image/png": "[encoded data removed]",
      "text/plain": [
       "<Figure size 432x288 with 1 Axes>"
      ]
     },
     "metadata": {
      "needs_background": "light"
     },
     "output_type": "display_data"
    }
   ],
   "source": [
    "plt.scatter(X[y_kmeans == 0, 0], X[y_kmeans == 0, 1], s = 100, c = 'red', label = 'Cluster 1')\n",
    "plt.scatter(X[y_kmeans == 1, 0], X[y_kmeans == 1, 1], s = 100, c = 'blue', label = 'Cluster 2')\n",
    "plt.scatter(X[y_kmeans == 2, 0], X[y_kmeans == 2, 1], s = 100, c = 'green', label = 'Cluster 3')\n",
    "plt.scatter(kmeans.cluster_centers_[:, 0], kmeans.cluster_centers_[:, 1], s = 300, c = 'cyan', label = 'Centroids')\n",
    "plt.title('Clusters of operations modes')\n",
    "plt.xlabel('Total Power')\n",
    "plt.ylabel('Appliance Power')\n",
    "plt.legend()\n",
    "plt.show()"
   ]
  },
  {
   "cell_type": "code",
   "execution_count": null,
   "metadata": {},
   "outputs": [],
   "source": []
  },
  {
   "cell_type": "code",
   "execution_count": 19,
   "metadata": {},
   "outputs": [],
   "source": [
    "# meterchunks = np.reshape(meterchunks, (np.shape(meterchunks)[0],1))\n",
    "# meterchunks"
   ]
  },
  {
   "cell_type": "code",
   "execution_count": 20,
   "metadata": {},
   "outputs": [],
   "source": [
    "# all_chunks = np.concatenate((mainchunk, meterchunk), axis=-1)\n",
    "# all_chunks = np.reshape(all_chunks, (np.shape(meterchunks)[0],np.shape(meterchunks)[0]))\n"
   ]
  },
  {
   "cell_type": "code",
   "execution_count": 21,
   "metadata": {},
   "outputs": [],
   "source": [
    "#df = pd.DataFrame(data=all_chunks, index=[\"row1\", \"row2\"], columns=[\"date\",\"time\", \"total power\"])"
   ]
  },
  {
   "cell_type": "code",
   "execution_count": null,
   "metadata": {},
   "outputs": [],
   "source": []
  },
  {
   "cell_type": "code",
   "execution_count": null,
   "metadata": {},
   "outputs": [],
   "source": []
  },
  {
   "cell_type": "code",
   "execution_count": null,
   "metadata": {},
   "outputs": [],
   "source": []
  },
  {
   "cell_type": "code",
   "execution_count": null,
   "metadata": {},
   "outputs": [],
   "source": []
  },
  {
   "cell_type": "code",
   "execution_count": null,
   "metadata": {},
   "outputs": [],
   "source": []
  },
  {
   "cell_type": "code",
   "execution_count": null,
   "metadata": {},
   "outputs": [],
   "source": []
  },
  {
   "cell_type": "code",
   "execution_count": null,
   "metadata": {},
   "outputs": [],
   "source": []
  },
  {
   "cell_type": "code",
   "execution_count": 31,
   "metadata": {},
   "outputs": [],
   "source": [
    "# result = DataSet(disag_filename)\n",
    "# res_elec = result.buildings[1].elec\n",
    "# predicted = res_elec['microwave']\n",
    "# ground_truth = test_elec['microwave']\n",
    "\n",
    "# import matplotlib.pyplot as plt\n",
    "# predicted.plot()\n",
    "# ground_truth.plot()\n",
    "# plt.show()"
   ]
  },
  {
   "cell_type": "code",
   "execution_count": 32,
   "metadata": {},
   "outputs": [],
   "source": [
    "# import metrics\n",
    "# rpaf = metrics.recall_precision_accuracy_f1(predicted, ground_truth)\n",
    "# print(\"============ Recall: {}\".format(rpaf[0]))\n",
    "# print(\"============ Precision: {}\".format(rpaf[1]))\n",
    "# print(\"============ Accuracy: {}\".format(rpaf[2]))\n",
    "# print(\"============ F1 Score: {}\".format(rpaf[3]))\n",
    "\n",
    "# print(\"============ Relative error in total energy: {}\".format(metrics.relative_error_total_energy(predicted, ground_truth)))\n",
    "# print(\"============ Mean absolute error(in Watts): {}\".format(metrics.mean_absolute_error(predicted, ground_truth)))"
   ]
  },
  {
   "cell_type": "code",
   "execution_count": null,
   "metadata": {},
   "outputs": [],
   "source": []
  }
 ],
 "metadata": {
  "anaconda-cloud": {},
  "kernelspec": {
   "display_name": "Python 3",
   "language": "python",
   "name": "python3"
  },
  "language_info": {
   "codemirror_mode": {
    "name": "ipython",
    "version": 3
   },
   "file_extension": ".py",
   "mimetype": "text/x-python",
   "name": "python",
   "nbconvert_exporter": "python",
   "pygments_lexer": "ipython3",
   "version": "3.7.4"
  }
 },
 "nbformat": 4,
 "nbformat_minor": 2
}
